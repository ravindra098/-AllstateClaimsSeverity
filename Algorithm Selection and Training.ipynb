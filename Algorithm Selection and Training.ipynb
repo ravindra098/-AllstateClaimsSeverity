{
 "cells": [
  {
   "cell_type": "markdown",
   "metadata": {},
   "source": [
    "# Algoritm Selection and Tranning Model"
   ]
  },
  {
   "cell_type": "markdown",
   "metadata": {},
   "source": [
    "## Imports"
   ]
  },
  {
   "cell_type": "code",
   "execution_count": 1,
   "metadata": {},
   "outputs": [],
   "source": [
    "# data analysis and data wrangling\n",
    "import numpy as np\n",
    "import pandas as pd\n",
    "\n",
    "# plotting\n",
    "import seaborn as sns\n",
    "import matplotlib.pyplot as plt\n",
    "import missingno as msno\n",
    "\n",
    "# Preprocessing\n",
    "from sklearn.preprocessing import LabelEncoder\n",
    "\n",
    "# machine learning\n",
    "from sklearn.linear_model import LinearRegression\n",
    "from sklearn.ensemble import RandomForestRegressor\n",
    "from xgboost import XGBRegressor\n",
    "import xgboost as xgb\n",
    "\n",
    "# metrics\n",
    "from sklearn.metrics import mean_absolute_error\n",
    "from sklearn.model_selection import KFold\n",
    "\n",
    "# Other\n",
    "from IPython.display import Image\n",
    "import configparser\n",
    "import subprocess\n",
    "import warnings\n",
    "import pprint\n",
    "import time\n",
    "import os"
   ]
  },
  {
   "cell_type": "code",
   "execution_count": 2,
   "metadata": {},
   "outputs": [],
   "source": [
    "warnings.filterwarnings('ignore')"
   ]
  },
  {
   "cell_type": "markdown",
   "metadata": {},
   "source": [
    "## Prepare Principal Directory"
   ]
  },
  {
   "cell_type": "markdown",
   "metadata": {},
   "source": [
    "### Load dataset"
   ]
  },
  {
   "cell_type": "code",
   "execution_count": 4,
   "metadata": {
    "scrolled": true
   },
   "outputs": [
    {
     "name": "stdout",
     "output_type": "stream",
     "text": [
      "Wall time: 3.15 s\n"
     ]
    }
   ],
   "source": [
    "%%time\n",
    "\n",
    "# load data in dataset\n",
    "df_train = pd.read_csv(\"train-clean.csv\", \n",
    "                       encoding='utf-8')\n",
    "df_test = pd.read_csv(\"test-clean.csv\", \n",
    "                      encoding='utf-8')"
   ]
  },
  {
   "cell_type": "code",
   "execution_count": 5,
   "metadata": {
    "scrolled": true
   },
   "outputs": [
    {
     "data": {
      "text/html": [
       "<div>\n",
       "<style scoped>\n",
       "    .dataframe tbody tr th:only-of-type {\n",
       "        vertical-align: middle;\n",
       "    }\n",
       "\n",
       "    .dataframe tbody tr th {\n",
       "        vertical-align: top;\n",
       "    }\n",
       "\n",
       "    .dataframe thead th {\n",
       "        text-align: right;\n",
       "    }\n",
       "</style>\n",
       "<table border=\"1\" class=\"dataframe\">\n",
       "  <thead>\n",
       "    <tr style=\"text-align: right;\">\n",
       "      <th></th>\n",
       "      <th>cat1</th>\n",
       "      <th>cat2</th>\n",
       "      <th>cat3</th>\n",
       "      <th>cat4</th>\n",
       "      <th>cat5</th>\n",
       "      <th>cat6</th>\n",
       "      <th>cat7</th>\n",
       "      <th>cat8</th>\n",
       "      <th>cat9</th>\n",
       "      <th>cat10</th>\n",
       "      <th>...</th>\n",
       "      <th>cat111</th>\n",
       "      <th>cat112</th>\n",
       "      <th>cat113</th>\n",
       "      <th>cat114</th>\n",
       "      <th>cat115</th>\n",
       "      <th>cat116</th>\n",
       "      <th>cont2</th>\n",
       "      <th>cont7</th>\n",
       "      <th>cont11</th>\n",
       "      <th>loss</th>\n",
       "    </tr>\n",
       "  </thead>\n",
       "  <tbody>\n",
       "    <tr>\n",
       "      <td>0</td>\n",
       "      <td>0</td>\n",
       "      <td>1</td>\n",
       "      <td>0</td>\n",
       "      <td>1</td>\n",
       "      <td>0</td>\n",
       "      <td>0</td>\n",
       "      <td>0</td>\n",
       "      <td>0</td>\n",
       "      <td>1</td>\n",
       "      <td>0</td>\n",
       "      <td>...</td>\n",
       "      <td>2</td>\n",
       "      <td>19</td>\n",
       "      <td>55</td>\n",
       "      <td>0</td>\n",
       "      <td>14</td>\n",
       "      <td>269</td>\n",
       "      <td>0.245921</td>\n",
       "      <td>0.335060</td>\n",
       "      <td>0.569745</td>\n",
       "      <td>2213.18</td>\n",
       "    </tr>\n",
       "    <tr>\n",
       "      <td>1</td>\n",
       "      <td>0</td>\n",
       "      <td>1</td>\n",
       "      <td>0</td>\n",
       "      <td>0</td>\n",
       "      <td>0</td>\n",
       "      <td>0</td>\n",
       "      <td>0</td>\n",
       "      <td>0</td>\n",
       "      <td>1</td>\n",
       "      <td>1</td>\n",
       "      <td>...</td>\n",
       "      <td>0</td>\n",
       "      <td>22</td>\n",
       "      <td>38</td>\n",
       "      <td>0</td>\n",
       "      <td>14</td>\n",
       "      <td>85</td>\n",
       "      <td>0.737068</td>\n",
       "      <td>0.436585</td>\n",
       "      <td>0.338312</td>\n",
       "      <td>1283.60</td>\n",
       "    </tr>\n",
       "    <tr>\n",
       "      <td>2</td>\n",
       "      <td>0</td>\n",
       "      <td>1</td>\n",
       "      <td>0</td>\n",
       "      <td>0</td>\n",
       "      <td>1</td>\n",
       "      <td>0</td>\n",
       "      <td>0</td>\n",
       "      <td>0</td>\n",
       "      <td>1</td>\n",
       "      <td>1</td>\n",
       "      <td>...</td>\n",
       "      <td>0</td>\n",
       "      <td>28</td>\n",
       "      <td>5</td>\n",
       "      <td>0</td>\n",
       "      <td>8</td>\n",
       "      <td>153</td>\n",
       "      <td>0.358319</td>\n",
       "      <td>0.315545</td>\n",
       "      <td>0.381398</td>\n",
       "      <td>3005.09</td>\n",
       "    </tr>\n",
       "    <tr>\n",
       "      <td>3</td>\n",
       "      <td>1</td>\n",
       "      <td>1</td>\n",
       "      <td>0</td>\n",
       "      <td>1</td>\n",
       "      <td>0</td>\n",
       "      <td>0</td>\n",
       "      <td>0</td>\n",
       "      <td>0</td>\n",
       "      <td>1</td>\n",
       "      <td>0</td>\n",
       "      <td>...</td>\n",
       "      <td>2</td>\n",
       "      <td>39</td>\n",
       "      <td>4</td>\n",
       "      <td>0</td>\n",
       "      <td>14</td>\n",
       "      <td>79</td>\n",
       "      <td>0.555782</td>\n",
       "      <td>0.391128</td>\n",
       "      <td>0.327915</td>\n",
       "      <td>939.85</td>\n",
       "    </tr>\n",
       "    <tr>\n",
       "      <td>4</td>\n",
       "      <td>0</td>\n",
       "      <td>1</td>\n",
       "      <td>0</td>\n",
       "      <td>1</td>\n",
       "      <td>0</td>\n",
       "      <td>0</td>\n",
       "      <td>0</td>\n",
       "      <td>0</td>\n",
       "      <td>1</td>\n",
       "      <td>1</td>\n",
       "      <td>...</td>\n",
       "      <td>2</td>\n",
       "      <td>50</td>\n",
       "      <td>38</td>\n",
       "      <td>0</td>\n",
       "      <td>10</td>\n",
       "      <td>55</td>\n",
       "      <td>0.159990</td>\n",
       "      <td>0.247408</td>\n",
       "      <td>0.204687</td>\n",
       "      <td>2763.85</td>\n",
       "    </tr>\n",
       "  </tbody>\n",
       "</table>\n",
       "<p>5 rows × 118 columns</p>\n",
       "</div>"
      ],
      "text/plain": [
       "   cat1  cat2  cat3  cat4  cat5  cat6  cat7  cat8  cat9  cat10  ...  cat111  \\\n",
       "0     0     1     0     1     0     0     0     0     1      0  ...       2   \n",
       "1     0     1     0     0     0     0     0     0     1      1  ...       0   \n",
       "2     0     1     0     0     1     0     0     0     1      1  ...       0   \n",
       "3     1     1     0     1     0     0     0     0     1      0  ...       2   \n",
       "4     0     1     0     1     0     0     0     0     1      1  ...       2   \n",
       "\n",
       "   cat112  cat113  cat114  cat115  cat116     cont2     cont7    cont11  \\\n",
       "0      19      55       0      14     269  0.245921  0.335060  0.569745   \n",
       "1      22      38       0      14      85  0.737068  0.436585  0.338312   \n",
       "2      28       5       0       8     153  0.358319  0.315545  0.381398   \n",
       "3      39       4       0      14      79  0.555782  0.391128  0.327915   \n",
       "4      50      38       0      10      55  0.159990  0.247408  0.204687   \n",
       "\n",
       "      loss  \n",
       "0  2213.18  \n",
       "1  1283.60  \n",
       "2  3005.09  \n",
       "3   939.85  \n",
       "4  2763.85  \n",
       "\n",
       "[5 rows x 118 columns]"
      ]
     },
     "execution_count": 5,
     "metadata": {},
     "output_type": "execute_result"
    }
   ],
   "source": [
    "df_train.head()"
   ]
  },
  {
   "cell_type": "markdown",
   "metadata": {},
   "source": [
    "### Global Variables"
   ]
  },
  {
   "cell_type": "code",
   "execution_count": 6,
   "metadata": {},
   "outputs": [],
   "source": [
    "# Lists that will be manipulated in the data processing\n",
    "list_columns = []\n",
    "list_categorical_col = []\n",
    "list_numerical_col = []"
   ]
  },
  {
   "cell_type": "code",
   "execution_count": 7,
   "metadata": {},
   "outputs": [],
   "source": [
    "def get_col(df: 'dataframe', type_descr: 'numpy') -> list:\n",
    "    \"\"\"\n",
    "    Function get list columns \n",
    "    \n",
    "    Args:\n",
    "    type_descr\n",
    "        np.number, np.object -> return list with all columns\n",
    "        np.number            -> return list numerical columns \n",
    "        np.object            -> return list object columns\n",
    "    \"\"\"\n",
    "    try:\n",
    "        col = (df.describe(include=type_descr).columns)  # pandas.core.indexes.base.Index  \n",
    "    except ValueError:\n",
    "        print(f'Dataframe not contains {type_descr} columns !', end='\\n')    \n",
    "    else:\n",
    "        return col.tolist() "
   ]
  },
  {
   "cell_type": "code",
   "execution_count": 8,
   "metadata": {},
   "outputs": [
    {
     "name": "stdout",
     "output_type": "stream",
     "text": [
      "Dataframe not contains <class 'object'> columns !\n"
     ]
    }
   ],
   "source": [
    "list_numerical_col = get_col(df=df_train,\n",
    "                             type_descr=np.number)\n",
    "list_categorical_col = get_col(df=df_train,\n",
    "                               type_descr=np.object)\n",
    "list_columns = get_col(df=df_train,\n",
    "                       type_descr=[np.object, np.number])"
   ]
  },
  {
   "cell_type": "markdown",
   "metadata": {},
   "source": [
    "---\n",
    "\n",
    "## Prepare Submission File\n",
    "Use function to submission. In this way it is guaranteed a default."
   ]
  },
  {
   "cell_type": "code",
   "execution_count": 9,
   "metadata": {},
   "outputs": [
    {
     "data": {
      "text/html": [
       "<div>\n",
       "<style scoped>\n",
       "    .dataframe tbody tr th:only-of-type {\n",
       "        vertical-align: middle;\n",
       "    }\n",
       "\n",
       "    .dataframe tbody tr th {\n",
       "        vertical-align: top;\n",
       "    }\n",
       "\n",
       "    .dataframe thead th {\n",
       "        text-align: right;\n",
       "    }\n",
       "</style>\n",
       "<table border=\"1\" class=\"dataframe\">\n",
       "  <thead>\n",
       "    <tr style=\"text-align: right;\">\n",
       "      <th></th>\n",
       "      <th>id</th>\n",
       "      <th>loss</th>\n",
       "    </tr>\n",
       "  </thead>\n",
       "  <tbody>\n",
       "    <tr>\n",
       "      <td>0</td>\n",
       "      <td>4</td>\n",
       "      <td>0</td>\n",
       "    </tr>\n",
       "    <tr>\n",
       "      <td>1</td>\n",
       "      <td>6</td>\n",
       "      <td>0</td>\n",
       "    </tr>\n",
       "    <tr>\n",
       "      <td>2</td>\n",
       "      <td>9</td>\n",
       "      <td>0</td>\n",
       "    </tr>\n",
       "    <tr>\n",
       "      <td>3</td>\n",
       "      <td>12</td>\n",
       "      <td>0</td>\n",
       "    </tr>\n",
       "    <tr>\n",
       "      <td>4</td>\n",
       "      <td>15</td>\n",
       "      <td>0</td>\n",
       "    </tr>\n",
       "    <tr>\n",
       "      <td>5</td>\n",
       "      <td>17</td>\n",
       "      <td>0</td>\n",
       "    </tr>\n",
       "    <tr>\n",
       "      <td>6</td>\n",
       "      <td>21</td>\n",
       "      <td>0</td>\n",
       "    </tr>\n",
       "    <tr>\n",
       "      <td>7</td>\n",
       "      <td>28</td>\n",
       "      <td>0</td>\n",
       "    </tr>\n",
       "    <tr>\n",
       "      <td>8</td>\n",
       "      <td>32</td>\n",
       "      <td>0</td>\n",
       "    </tr>\n",
       "    <tr>\n",
       "      <td>9</td>\n",
       "      <td>43</td>\n",
       "      <td>0</td>\n",
       "    </tr>\n",
       "  </tbody>\n",
       "</table>\n",
       "</div>"
      ],
      "text/plain": [
       "   id  loss\n",
       "0   4     0\n",
       "1   6     0\n",
       "2   9     0\n",
       "3  12     0\n",
       "4  15     0\n",
       "5  17     0\n",
       "6  21     0\n",
       "7  28     0\n",
       "8  32     0\n",
       "9  43     0"
      ]
     },
     "execution_count": 9,
     "metadata": {},
     "output_type": "execute_result"
    }
   ],
   "source": [
    "# First, check how is file sample\n",
    "sample = pd.read_csv('data/sample_submission.csv')\n",
    "sample.head(10)"
   ]
  },
  {
   "cell_type": "code",
   "execution_count": 10,
   "metadata": {},
   "outputs": [],
   "source": [
    "test_ids = df_test['id']\n",
    "\n",
    "submissions_folder = 'data/'"
   ]
  },
  {
   "cell_type": "code",
   "execution_count": 11,
   "metadata": {},
   "outputs": [],
   "source": [
    "def save_predictions(ids = None, predictions = None, file = None):\n",
    "    \n",
    "    # prepare file\n",
    "    submission = pd.DataFrame({'id': ids, 'loss': predictions})\n",
    "    \n",
    "    # CSV\n",
    "    submission.to_csv(path_or_buf = file, index = False, encoding='utf8')\n",
    "    print(\"Data storage!\")"
   ]
  },
  {
   "cell_type": "markdown",
   "metadata": {},
   "source": [
    "---"
   ]
  },
  {
   "cell_type": "markdown",
   "metadata": {},
   "source": [
    "## Split train and test\n",
    "- The variable Shift is applied to the log transformation."
   ]
  },
  {
   "cell_type": "code",
   "execution_count": 12,
   "metadata": {
    "scrolled": true
   },
   "outputs": [],
   "source": [
    "list_columns.remove('loss')"
   ]
  },
  {
   "cell_type": "code",
   "execution_count": 13,
   "metadata": {
    "scrolled": true
   },
   "outputs": [
    {
     "data": {
      "text/html": [
       "<div>\n",
       "<style scoped>\n",
       "    .dataframe tbody tr th:only-of-type {\n",
       "        vertical-align: middle;\n",
       "    }\n",
       "\n",
       "    .dataframe tbody tr th {\n",
       "        vertical-align: top;\n",
       "    }\n",
       "\n",
       "    .dataframe thead th {\n",
       "        text-align: right;\n",
       "    }\n",
       "</style>\n",
       "<table border=\"1\" class=\"dataframe\">\n",
       "  <thead>\n",
       "    <tr style=\"text-align: right;\">\n",
       "      <th></th>\n",
       "      <th>cat1</th>\n",
       "      <th>cat2</th>\n",
       "      <th>cat3</th>\n",
       "      <th>cat4</th>\n",
       "      <th>cat5</th>\n",
       "      <th>cat6</th>\n",
       "      <th>cat7</th>\n",
       "      <th>cat8</th>\n",
       "      <th>cat9</th>\n",
       "      <th>cat10</th>\n",
       "      <th>...</th>\n",
       "      <th>cat110</th>\n",
       "      <th>cat111</th>\n",
       "      <th>cat112</th>\n",
       "      <th>cat113</th>\n",
       "      <th>cat114</th>\n",
       "      <th>cat115</th>\n",
       "      <th>cat116</th>\n",
       "      <th>cont2</th>\n",
       "      <th>cont7</th>\n",
       "      <th>cont11</th>\n",
       "    </tr>\n",
       "  </thead>\n",
       "  <tbody>\n",
       "    <tr>\n",
       "      <td>0</td>\n",
       "      <td>0</td>\n",
       "      <td>1</td>\n",
       "      <td>0</td>\n",
       "      <td>1</td>\n",
       "      <td>0</td>\n",
       "      <td>0</td>\n",
       "      <td>0</td>\n",
       "      <td>0</td>\n",
       "      <td>1</td>\n",
       "      <td>0</td>\n",
       "      <td>...</td>\n",
       "      <td>28</td>\n",
       "      <td>2</td>\n",
       "      <td>19</td>\n",
       "      <td>55</td>\n",
       "      <td>0</td>\n",
       "      <td>14</td>\n",
       "      <td>269</td>\n",
       "      <td>0.245921</td>\n",
       "      <td>0.335060</td>\n",
       "      <td>0.569745</td>\n",
       "    </tr>\n",
       "    <tr>\n",
       "      <td>1</td>\n",
       "      <td>0</td>\n",
       "      <td>1</td>\n",
       "      <td>0</td>\n",
       "      <td>0</td>\n",
       "      <td>0</td>\n",
       "      <td>0</td>\n",
       "      <td>0</td>\n",
       "      <td>0</td>\n",
       "      <td>1</td>\n",
       "      <td>1</td>\n",
       "      <td>...</td>\n",
       "      <td>65</td>\n",
       "      <td>0</td>\n",
       "      <td>22</td>\n",
       "      <td>38</td>\n",
       "      <td>0</td>\n",
       "      <td>14</td>\n",
       "      <td>85</td>\n",
       "      <td>0.737068</td>\n",
       "      <td>0.436585</td>\n",
       "      <td>0.338312</td>\n",
       "    </tr>\n",
       "    <tr>\n",
       "      <td>2</td>\n",
       "      <td>0</td>\n",
       "      <td>1</td>\n",
       "      <td>0</td>\n",
       "      <td>0</td>\n",
       "      <td>1</td>\n",
       "      <td>0</td>\n",
       "      <td>0</td>\n",
       "      <td>0</td>\n",
       "      <td>1</td>\n",
       "      <td>1</td>\n",
       "      <td>...</td>\n",
       "      <td>85</td>\n",
       "      <td>0</td>\n",
       "      <td>28</td>\n",
       "      <td>5</td>\n",
       "      <td>0</td>\n",
       "      <td>8</td>\n",
       "      <td>153</td>\n",
       "      <td>0.358319</td>\n",
       "      <td>0.315545</td>\n",
       "      <td>0.381398</td>\n",
       "    </tr>\n",
       "    <tr>\n",
       "      <td>3</td>\n",
       "      <td>1</td>\n",
       "      <td>1</td>\n",
       "      <td>0</td>\n",
       "      <td>1</td>\n",
       "      <td>0</td>\n",
       "      <td>0</td>\n",
       "      <td>0</td>\n",
       "      <td>0</td>\n",
       "      <td>1</td>\n",
       "      <td>0</td>\n",
       "      <td>...</td>\n",
       "      <td>67</td>\n",
       "      <td>2</td>\n",
       "      <td>39</td>\n",
       "      <td>4</td>\n",
       "      <td>0</td>\n",
       "      <td>14</td>\n",
       "      <td>79</td>\n",
       "      <td>0.555782</td>\n",
       "      <td>0.391128</td>\n",
       "      <td>0.327915</td>\n",
       "    </tr>\n",
       "    <tr>\n",
       "      <td>4</td>\n",
       "      <td>0</td>\n",
       "      <td>1</td>\n",
       "      <td>0</td>\n",
       "      <td>1</td>\n",
       "      <td>0</td>\n",
       "      <td>0</td>\n",
       "      <td>0</td>\n",
       "      <td>0</td>\n",
       "      <td>1</td>\n",
       "      <td>1</td>\n",
       "      <td>...</td>\n",
       "      <td>50</td>\n",
       "      <td>2</td>\n",
       "      <td>50</td>\n",
       "      <td>38</td>\n",
       "      <td>0</td>\n",
       "      <td>10</td>\n",
       "      <td>55</td>\n",
       "      <td>0.159990</td>\n",
       "      <td>0.247408</td>\n",
       "      <td>0.204687</td>\n",
       "    </tr>\n",
       "  </tbody>\n",
       "</table>\n",
       "<p>5 rows × 117 columns</p>\n",
       "</div>"
      ],
      "text/plain": [
       "   cat1  cat2  cat3  cat4  cat5  cat6  cat7  cat8  cat9  cat10  ...  cat110  \\\n",
       "0     0     1     0     1     0     0     0     0     1      0  ...      28   \n",
       "1     0     1     0     0     0     0     0     0     1      1  ...      65   \n",
       "2     0     1     0     0     1     0     0     0     1      1  ...      85   \n",
       "3     1     1     0     1     0     0     0     0     1      0  ...      67   \n",
       "4     0     1     0     1     0     0     0     0     1      1  ...      50   \n",
       "\n",
       "   cat111  cat112  cat113  cat114  cat115  cat116     cont2     cont7  \\\n",
       "0       2      19      55       0      14     269  0.245921  0.335060   \n",
       "1       0      22      38       0      14      85  0.737068  0.436585   \n",
       "2       0      28       5       0       8     153  0.358319  0.315545   \n",
       "3       2      39       4       0      14      79  0.555782  0.391128   \n",
       "4       2      50      38       0      10      55  0.159990  0.247408   \n",
       "\n",
       "     cont11  \n",
       "0  0.569745  \n",
       "1  0.338312  \n",
       "2  0.381398  \n",
       "3  0.327915  \n",
       "4  0.204687  \n",
       "\n",
       "[5 rows x 117 columns]"
      ]
     },
     "execution_count": 13,
     "metadata": {},
     "output_type": "execute_result"
    }
   ],
   "source": [
    "df_train[list_columns].head()"
   ]
  },
  {
   "cell_type": "code",
   "execution_count": 14,
   "metadata": {
    "scrolled": true
   },
   "outputs": [],
   "source": [
    "# split into training and test sets\n",
    "shift = 200\n",
    "\n",
    "# create target label\n",
    "X_train = df_train[list_columns]\n",
    "y_train = np.log(df_train['loss'] + shift)"
   ]
  },
  {
   "cell_type": "code",
   "execution_count": 15,
   "metadata": {
    "scrolled": true
   },
   "outputs": [],
   "source": [
    "X_test = df_test[list_columns]"
   ]
  },
  {
   "cell_type": "code",
   "execution_count": 16,
   "metadata": {},
   "outputs": [
    {
     "data": {
      "text/html": [
       "<div>\n",
       "<style scoped>\n",
       "    .dataframe tbody tr th:only-of-type {\n",
       "        vertical-align: middle;\n",
       "    }\n",
       "\n",
       "    .dataframe tbody tr th {\n",
       "        vertical-align: top;\n",
       "    }\n",
       "\n",
       "    .dataframe thead th {\n",
       "        text-align: right;\n",
       "    }\n",
       "</style>\n",
       "<table border=\"1\" class=\"dataframe\">\n",
       "  <thead>\n",
       "    <tr style=\"text-align: right;\">\n",
       "      <th></th>\n",
       "      <th>cat1</th>\n",
       "      <th>cat2</th>\n",
       "      <th>cat3</th>\n",
       "      <th>cat4</th>\n",
       "      <th>cat5</th>\n",
       "      <th>cat6</th>\n",
       "      <th>cat7</th>\n",
       "      <th>cat8</th>\n",
       "      <th>cat9</th>\n",
       "      <th>cat10</th>\n",
       "      <th>...</th>\n",
       "      <th>cat110</th>\n",
       "      <th>cat111</th>\n",
       "      <th>cat112</th>\n",
       "      <th>cat113</th>\n",
       "      <th>cat114</th>\n",
       "      <th>cat115</th>\n",
       "      <th>cat116</th>\n",
       "      <th>cont2</th>\n",
       "      <th>cont7</th>\n",
       "      <th>cont11</th>\n",
       "    </tr>\n",
       "  </thead>\n",
       "  <tbody>\n",
       "    <tr>\n",
       "      <td>0</td>\n",
       "      <td>0</td>\n",
       "      <td>1</td>\n",
       "      <td>0</td>\n",
       "      <td>1</td>\n",
       "      <td>0</td>\n",
       "      <td>0</td>\n",
       "      <td>0</td>\n",
       "      <td>0</td>\n",
       "      <td>1</td>\n",
       "      <td>0</td>\n",
       "      <td>...</td>\n",
       "      <td>28</td>\n",
       "      <td>2</td>\n",
       "      <td>19</td>\n",
       "      <td>55</td>\n",
       "      <td>0</td>\n",
       "      <td>14</td>\n",
       "      <td>269</td>\n",
       "      <td>0.245921</td>\n",
       "      <td>0.335060</td>\n",
       "      <td>0.569745</td>\n",
       "    </tr>\n",
       "    <tr>\n",
       "      <td>1</td>\n",
       "      <td>0</td>\n",
       "      <td>1</td>\n",
       "      <td>0</td>\n",
       "      <td>0</td>\n",
       "      <td>0</td>\n",
       "      <td>0</td>\n",
       "      <td>0</td>\n",
       "      <td>0</td>\n",
       "      <td>1</td>\n",
       "      <td>1</td>\n",
       "      <td>...</td>\n",
       "      <td>65</td>\n",
       "      <td>0</td>\n",
       "      <td>22</td>\n",
       "      <td>38</td>\n",
       "      <td>0</td>\n",
       "      <td>14</td>\n",
       "      <td>85</td>\n",
       "      <td>0.737068</td>\n",
       "      <td>0.436585</td>\n",
       "      <td>0.338312</td>\n",
       "    </tr>\n",
       "    <tr>\n",
       "      <td>2</td>\n",
       "      <td>0</td>\n",
       "      <td>1</td>\n",
       "      <td>0</td>\n",
       "      <td>0</td>\n",
       "      <td>1</td>\n",
       "      <td>0</td>\n",
       "      <td>0</td>\n",
       "      <td>0</td>\n",
       "      <td>1</td>\n",
       "      <td>1</td>\n",
       "      <td>...</td>\n",
       "      <td>85</td>\n",
       "      <td>0</td>\n",
       "      <td>28</td>\n",
       "      <td>5</td>\n",
       "      <td>0</td>\n",
       "      <td>8</td>\n",
       "      <td>153</td>\n",
       "      <td>0.358319</td>\n",
       "      <td>0.315545</td>\n",
       "      <td>0.381398</td>\n",
       "    </tr>\n",
       "    <tr>\n",
       "      <td>3</td>\n",
       "      <td>1</td>\n",
       "      <td>1</td>\n",
       "      <td>0</td>\n",
       "      <td>1</td>\n",
       "      <td>0</td>\n",
       "      <td>0</td>\n",
       "      <td>0</td>\n",
       "      <td>0</td>\n",
       "      <td>1</td>\n",
       "      <td>0</td>\n",
       "      <td>...</td>\n",
       "      <td>67</td>\n",
       "      <td>2</td>\n",
       "      <td>39</td>\n",
       "      <td>4</td>\n",
       "      <td>0</td>\n",
       "      <td>14</td>\n",
       "      <td>79</td>\n",
       "      <td>0.555782</td>\n",
       "      <td>0.391128</td>\n",
       "      <td>0.327915</td>\n",
       "    </tr>\n",
       "    <tr>\n",
       "      <td>4</td>\n",
       "      <td>0</td>\n",
       "      <td>1</td>\n",
       "      <td>0</td>\n",
       "      <td>1</td>\n",
       "      <td>0</td>\n",
       "      <td>0</td>\n",
       "      <td>0</td>\n",
       "      <td>0</td>\n",
       "      <td>1</td>\n",
       "      <td>1</td>\n",
       "      <td>...</td>\n",
       "      <td>50</td>\n",
       "      <td>2</td>\n",
       "      <td>50</td>\n",
       "      <td>38</td>\n",
       "      <td>0</td>\n",
       "      <td>10</td>\n",
       "      <td>55</td>\n",
       "      <td>0.159990</td>\n",
       "      <td>0.247408</td>\n",
       "      <td>0.204687</td>\n",
       "    </tr>\n",
       "  </tbody>\n",
       "</table>\n",
       "<p>5 rows × 117 columns</p>\n",
       "</div>"
      ],
      "text/plain": [
       "   cat1  cat2  cat3  cat4  cat5  cat6  cat7  cat8  cat9  cat10  ...  cat110  \\\n",
       "0     0     1     0     1     0     0     0     0     1      0  ...      28   \n",
       "1     0     1     0     0     0     0     0     0     1      1  ...      65   \n",
       "2     0     1     0     0     1     0     0     0     1      1  ...      85   \n",
       "3     1     1     0     1     0     0     0     0     1      0  ...      67   \n",
       "4     0     1     0     1     0     0     0     0     1      1  ...      50   \n",
       "\n",
       "   cat111  cat112  cat113  cat114  cat115  cat116     cont2     cont7  \\\n",
       "0       2      19      55       0      14     269  0.245921  0.335060   \n",
       "1       0      22      38       0      14      85  0.737068  0.436585   \n",
       "2       0      28       5       0       8     153  0.358319  0.315545   \n",
       "3       2      39       4       0      14      79  0.555782  0.391128   \n",
       "4       2      50      38       0      10      55  0.159990  0.247408   \n",
       "\n",
       "     cont11  \n",
       "0  0.569745  \n",
       "1  0.338312  \n",
       "2  0.381398  \n",
       "3  0.327915  \n",
       "4  0.204687  \n",
       "\n",
       "[5 rows x 117 columns]"
      ]
     },
     "execution_count": 16,
     "metadata": {},
     "output_type": "execute_result"
    }
   ],
   "source": [
    "X_train.head()"
   ]
  },
  {
   "cell_type": "code",
   "execution_count": 17,
   "metadata": {},
   "outputs": [
    {
     "data": {
      "text/html": [
       "<div>\n",
       "<style scoped>\n",
       "    .dataframe tbody tr th:only-of-type {\n",
       "        vertical-align: middle;\n",
       "    }\n",
       "\n",
       "    .dataframe tbody tr th {\n",
       "        vertical-align: top;\n",
       "    }\n",
       "\n",
       "    .dataframe thead th {\n",
       "        text-align: right;\n",
       "    }\n",
       "</style>\n",
       "<table border=\"1\" class=\"dataframe\">\n",
       "  <thead>\n",
       "    <tr style=\"text-align: right;\">\n",
       "      <th></th>\n",
       "      <th>cat1</th>\n",
       "      <th>cat2</th>\n",
       "      <th>cat3</th>\n",
       "      <th>cat4</th>\n",
       "      <th>cat5</th>\n",
       "      <th>cat6</th>\n",
       "      <th>cat7</th>\n",
       "      <th>cat8</th>\n",
       "      <th>cat9</th>\n",
       "      <th>cat10</th>\n",
       "      <th>...</th>\n",
       "      <th>cat110</th>\n",
       "      <th>cat111</th>\n",
       "      <th>cat112</th>\n",
       "      <th>cat113</th>\n",
       "      <th>cat114</th>\n",
       "      <th>cat115</th>\n",
       "      <th>cat116</th>\n",
       "      <th>cont2</th>\n",
       "      <th>cont7</th>\n",
       "      <th>cont11</th>\n",
       "    </tr>\n",
       "  </thead>\n",
       "  <tbody>\n",
       "    <tr>\n",
       "      <td>0</td>\n",
       "      <td>0</td>\n",
       "      <td>1</td>\n",
       "      <td>0</td>\n",
       "      <td>0</td>\n",
       "      <td>0</td>\n",
       "      <td>0</td>\n",
       "      <td>0</td>\n",
       "      <td>0</td>\n",
       "      <td>1</td>\n",
       "      <td>0</td>\n",
       "      <td>...</td>\n",
       "      <td>26</td>\n",
       "      <td>0</td>\n",
       "      <td>35</td>\n",
       "      <td>23</td>\n",
       "      <td>0</td>\n",
       "      <td>16</td>\n",
       "      <td>169</td>\n",
       "      <td>0.299102</td>\n",
       "      <td>0.317681</td>\n",
       "      <td>0.377724</td>\n",
       "    </tr>\n",
       "    <tr>\n",
       "      <td>1</td>\n",
       "      <td>0</td>\n",
       "      <td>1</td>\n",
       "      <td>0</td>\n",
       "      <td>1</td>\n",
       "      <td>0</td>\n",
       "      <td>0</td>\n",
       "      <td>0</td>\n",
       "      <td>0</td>\n",
       "      <td>1</td>\n",
       "      <td>0</td>\n",
       "      <td>...</td>\n",
       "      <td>58</td>\n",
       "      <td>3</td>\n",
       "      <td>32</td>\n",
       "      <td>58</td>\n",
       "      <td>0</td>\n",
       "      <td>11</td>\n",
       "      <td>173</td>\n",
       "      <td>0.620805</td>\n",
       "      <td>0.443760</td>\n",
       "      <td>0.689039</td>\n",
       "    </tr>\n",
       "    <tr>\n",
       "      <td>2</td>\n",
       "      <td>0</td>\n",
       "      <td>1</td>\n",
       "      <td>0</td>\n",
       "      <td>1</td>\n",
       "      <td>1</td>\n",
       "      <td>0</td>\n",
       "      <td>1</td>\n",
       "      <td>0</td>\n",
       "      <td>1</td>\n",
       "      <td>1</td>\n",
       "      <td>...</td>\n",
       "      <td>62</td>\n",
       "      <td>2</td>\n",
       "      <td>46</td>\n",
       "      <td>4</td>\n",
       "      <td>0</td>\n",
       "      <td>10</td>\n",
       "      <td>51</td>\n",
       "      <td>0.737068</td>\n",
       "      <td>0.325779</td>\n",
       "      <td>0.245410</td>\n",
       "    </tr>\n",
       "    <tr>\n",
       "      <td>3</td>\n",
       "      <td>0</td>\n",
       "      <td>0</td>\n",
       "      <td>0</td>\n",
       "      <td>0</td>\n",
       "      <td>1</td>\n",
       "      <td>0</td>\n",
       "      <td>0</td>\n",
       "      <td>0</td>\n",
       "      <td>0</td>\n",
       "      <td>0</td>\n",
       "      <td>...</td>\n",
       "      <td>61</td>\n",
       "      <td>0</td>\n",
       "      <td>25</td>\n",
       "      <td>9</td>\n",
       "      <td>0</td>\n",
       "      <td>15</td>\n",
       "      <td>76</td>\n",
       "      <td>0.681761</td>\n",
       "      <td>0.342355</td>\n",
       "      <td>0.348867</td>\n",
       "    </tr>\n",
       "    <tr>\n",
       "      <td>4</td>\n",
       "      <td>1</td>\n",
       "      <td>0</td>\n",
       "      <td>0</td>\n",
       "      <td>0</td>\n",
       "      <td>0</td>\n",
       "      <td>1</td>\n",
       "      <td>0</td>\n",
       "      <td>0</td>\n",
       "      <td>0</td>\n",
       "      <td>0</td>\n",
       "      <td>...</td>\n",
       "      <td>100</td>\n",
       "      <td>0</td>\n",
       "      <td>30</td>\n",
       "      <td>45</td>\n",
       "      <td>2</td>\n",
       "      <td>9</td>\n",
       "      <td>163</td>\n",
       "      <td>0.299102</td>\n",
       "      <td>0.391833</td>\n",
       "      <td>0.359572</td>\n",
       "    </tr>\n",
       "  </tbody>\n",
       "</table>\n",
       "<p>5 rows × 117 columns</p>\n",
       "</div>"
      ],
      "text/plain": [
       "   cat1  cat2  cat3  cat4  cat5  cat6  cat7  cat8  cat9  cat10  ...  cat110  \\\n",
       "0     0     1     0     0     0     0     0     0     1      0  ...      26   \n",
       "1     0     1     0     1     0     0     0     0     1      0  ...      58   \n",
       "2     0     1     0     1     1     0     1     0     1      1  ...      62   \n",
       "3     0     0     0     0     1     0     0     0     0      0  ...      61   \n",
       "4     1     0     0     0     0     1     0     0     0      0  ...     100   \n",
       "\n",
       "   cat111  cat112  cat113  cat114  cat115  cat116     cont2     cont7  \\\n",
       "0       0      35      23       0      16     169  0.299102  0.317681   \n",
       "1       3      32      58       0      11     173  0.620805  0.443760   \n",
       "2       2      46       4       0      10      51  0.737068  0.325779   \n",
       "3       0      25       9       0      15      76  0.681761  0.342355   \n",
       "4       0      30      45       2       9     163  0.299102  0.391833   \n",
       "\n",
       "     cont11  \n",
       "0  0.377724  \n",
       "1  0.689039  \n",
       "2  0.245410  \n",
       "3  0.348867  \n",
       "4  0.359572  \n",
       "\n",
       "[5 rows x 117 columns]"
      ]
     },
     "execution_count": 17,
     "metadata": {},
     "output_type": "execute_result"
    }
   ],
   "source": [
    "X_test.head()"
   ]
  },
  {
   "cell_type": "code",
   "execution_count": 18,
   "metadata": {},
   "outputs": [
    {
     "data": {
      "text/plain": [
       "0    7.788701\n",
       "1    7.302227\n",
       "2    8.072495\n",
       "3    7.038652\n",
       "4    7.994244\n",
       "Name: loss, dtype: float64"
      ]
     },
     "execution_count": 18,
     "metadata": {},
     "output_type": "execute_result"
    }
   ],
   "source": [
    "y_train.head()"
   ]
  },
  {
   "cell_type": "code",
   "execution_count": 19,
   "metadata": {},
   "outputs": [
    {
     "data": {
      "text/plain": [
       "0    7.788701\n",
       "1    7.302227\n",
       "2    8.072495\n",
       "3    7.038652\n",
       "4    7.994244\n",
       "Name: loss, dtype: float64"
      ]
     },
     "metadata": {},
     "output_type": "display_data"
    }
   ],
   "source": [
    "display(y_train.head())"
   ]
  },
  {
   "cell_type": "code",
   "execution_count": 20,
   "metadata": {},
   "outputs": [
    {
     "name": "stdout",
     "output_type": "stream",
     "text": [
      "Xtrain shape: 188318\n",
      "ytrain shape: 117\n",
      "Xtest shape: 125546\n",
      "ytest shape: 117\n"
     ]
    }
   ],
   "source": [
    "# check distribuition\n",
    "print (\"Xtrain shape:\", X_train.shape[0])\n",
    "print (\"ytrain shape:\", X_train.shape[1])\n",
    "print (\"Xtest shape:\", X_test.shape[0])\n",
    "print (\"ytest shape:\", X_test.shape[1])"
   ]
  },
  {
   "cell_type": "markdown",
   "metadata": {},
   "source": [
    "## Mean absolute error (MAE) \n",
    "- The models in this project use the mean absolute error (MAE) between the predicted loss and the actual loss for each claim in the test set.\n",
    "- The goal was to minimize the MAE in our model’s predictions. "
   ]
  },
  {
   "cell_type": "code",
   "execution_count": 21,
   "metadata": {},
   "outputs": [],
   "source": [
    "# Custom eval metric\n",
    "def eval_error(preds, dtrain):\n",
    "    \"\"\"evaluation\"\"\"\n",
    "    labels = dtrain.get_label()\n",
    "    return 'mae', mean_absolute_error(np.exp(preds), np.exp(labels))"
   ]
  },
  {
   "cell_type": "markdown",
   "metadata": {},
   "source": [
    "---\n",
    "\n",
    "## K-Folds Cross Validation\n",
    "KFold divides all the samples in  groups of samples, called folds, of equal sizes (if possible). The prediction function is learned using  folds, and the fold left out is used for test."
   ]
  },
  {
   "cell_type": "code",
   "execution_count": 22,
   "metadata": {},
   "outputs": [],
   "source": [
    "# replicate the results\n",
    "random_state = 16\n",
    "\n",
    "# folds\n",
    "k = 5"
   ]
  },
  {
   "cell_type": "markdown",
   "metadata": {},
   "source": [
    "---\n",
    "\n",
    "## Function Tranning\n",
    "- The traning and test it`s in function because garanted reuse.\n",
    "- The predictions running in validation set in each fold.\n",
    "- Garanted with array is the inverse of the log transformation about column loss.\n",
    "- Calculate time\n",
    "- Calculate MAE"
   ]
  },
  {
   "cell_type": "code",
   "execution_count": 23,
   "metadata": {},
   "outputs": [],
   "source": [
    "def train_model(model, num_folds):\n",
    "    \"\"\"Function by Train model\"\"\"\n",
    "        \n",
    "    print(\"Begin training\")\n",
    "    start = time.time()\n",
    "    \n",
    "    # declare a KFold instance\n",
    "    kfold = KFold(n_splits = num_folds, random_state = 10)\n",
    "    \n",
    "    # number of models\n",
    "    num_models = 1\n",
    "    \n",
    "    # array to store results after each fold\n",
    "    results = np.zeros((X_test.shape[0], k))\n",
    "        \n",
    "    # train K-1 Random Forests\n",
    "    for i, (train, val) in enumerate(kfold.split(X_train)):\n",
    "        # get smaller training set and create validation set\n",
    "        X_train_mini, X_val = X_train.iloc[train], X_train.iloc[val]\n",
    "        y_train_mini, y_val = y_train[train], y_train[val]\n",
    "\n",
    "        # train model\n",
    "        model.fit(X_train_mini, y_train_mini)\n",
    "\n",
    "        # make predictions \n",
    "        preds = model.predict(X_val)\n",
    "        \n",
    "        # absolute error\n",
    "        error = mean_absolute_error(np.exp(y_val) - shift, np.exp(preds) - shift)\n",
    "        print(\"MAE on fold {} is {}\".format(i, error))\n",
    "\n",
    "        \n",
    "        # Predict on test set\n",
    "        test_predictions = np.exp(model.predict(X_test)) - shift\n",
    "        \n",
    "        # Sum predictions\n",
    "        results[:,i] = test_predictions\n",
    "        \n",
    "\n",
    "    end = time.time()\n",
    "    print(\"\\nTraining done! Time Elapsed:\", end - start, \" seconds.\")\n",
    "\n",
    "    # Error over k folds\n",
    "    avg_error = np.mean(results)\n",
    "\n",
    "    return test_predictions"
   ]
  },
  {
   "cell_type": "markdown",
   "metadata": {},
   "source": [
    "---\n",
    "\n",
    "## Benchmarks\n",
    "\n",
    "We will test and execute the models:\n",
    "- Linear Regression\n",
    "- Random Forest (Bagging)\n",
    "- XGBoost"
   ]
  },
  {
   "cell_type": "markdown",
   "metadata": {},
   "source": [
    "### Linear Regression"
   ]
  },
  {
   "cell_type": "code",
   "execution_count": 24,
   "metadata": {
    "scrolled": true
   },
   "outputs": [
    {
     "data": {
      "text/plain": [
       "LinearRegression(copy_X=True, fit_intercept=True, n_jobs=None, normalize=False)"
      ]
     },
     "execution_count": 24,
     "metadata": {},
     "output_type": "execute_result"
    }
   ],
   "source": [
    "# Visualize params\n",
    "LinearRegression()"
   ]
  },
  {
   "cell_type": "code",
   "execution_count": 25,
   "metadata": {},
   "outputs": [
    {
     "name": "stdout",
     "output_type": "stream",
     "text": [
      "Begin training\n",
      "MAE on fold 0 is 1281.4420446956474\n",
      "MAE on fold 1 is 1275.6411263322877\n",
      "MAE on fold 2 is 1294.5456052336367\n",
      "MAE on fold 3 is 1294.5150507310548\n",
      "MAE on fold 4 is 1274.0273135089753\n",
      "\n",
      "Training done! Time Elapsed: 6.597168207168579  seconds.\n"
     ]
    }
   ],
   "source": [
    "# Linear Regression\n",
    "model_lr = LinearRegression(n_jobs=-1, normalize=False)\n",
    "\n",
    "# training\n",
    "result_lr = train_model(model = model_lr, num_folds = 5)"
   ]
  },
  {
   "cell_type": "code",
   "execution_count": 26,
   "metadata": {},
   "outputs": [
    {
     "name": "stdout",
     "output_type": "stream",
     "text": [
      "Begin training\n",
      "MAE on fold 0 is 1281.442044695646\n",
      "MAE on fold 1 is 1275.6411263322886\n",
      "MAE on fold 2 is 1294.545605233637\n",
      "MAE on fold 3 is 1294.515050731053\n",
      "MAE on fold 4 is 1274.0273135089753\n",
      "\n",
      "Training done! Time Elapsed: 6.364207744598389  seconds.\n"
     ]
    }
   ],
   "source": [
    "# Linear Regression normalized\n",
    "model_lr_normalized = LinearRegression(n_jobs=-1, normalize=True)\n",
    "\n",
    "# training\n",
    "result_lr_normalized = train_model(model = model_lr_normalized, num_folds = 5)"
   ]
  },
  {
   "cell_type": "markdown",
   "metadata": {},
   "source": [
    "#### Analysis of Results\n",
    "- Without difference data normalized and not normalized\n",
    "- The best result MAE on fold 4: 1267.692474560776"
   ]
  },
  {
   "cell_type": "markdown",
   "metadata": {},
   "source": [
    "#### Submission"
   ]
  },
  {
   "cell_type": "code",
   "execution_count": 27,
   "metadata": {
    "scrolled": true
   },
   "outputs": [
    {
     "name": "stdout",
     "output_type": "stream",
     "text": [
      "Data storage!\n"
     ]
    }
   ],
   "source": [
    "save_predictions(ids = test_ids, \n",
    "                 predictions = result_lr_normalized, \n",
    "                 file = submissions_folder + 'lin_regression_submission.csv')"
   ]
  },
  {
   "cell_type": "markdown",
   "metadata": {},
   "source": [
    "#### View file"
   ]
  },
  {
   "cell_type": "code",
   "execution_count": 28,
   "metadata": {
    "scrolled": true
   },
   "outputs": [
    {
     "data": {
      "text/html": [
       "<div>\n",
       "<style scoped>\n",
       "    .dataframe tbody tr th:only-of-type {\n",
       "        vertical-align: middle;\n",
       "    }\n",
       "\n",
       "    .dataframe tbody tr th {\n",
       "        vertical-align: top;\n",
       "    }\n",
       "\n",
       "    .dataframe thead th {\n",
       "        text-align: right;\n",
       "    }\n",
       "</style>\n",
       "<table border=\"1\" class=\"dataframe\">\n",
       "  <thead>\n",
       "    <tr style=\"text-align: right;\">\n",
       "      <th></th>\n",
       "      <th>id</th>\n",
       "      <th>loss</th>\n",
       "    </tr>\n",
       "  </thead>\n",
       "  <tbody>\n",
       "    <tr>\n",
       "      <td>0</td>\n",
       "      <td>4</td>\n",
       "      <td>1389.550974</td>\n",
       "    </tr>\n",
       "    <tr>\n",
       "      <td>1</td>\n",
       "      <td>6</td>\n",
       "      <td>1748.389852</td>\n",
       "    </tr>\n",
       "    <tr>\n",
       "      <td>2</td>\n",
       "      <td>9</td>\n",
       "      <td>12446.009133</td>\n",
       "    </tr>\n",
       "    <tr>\n",
       "      <td>3</td>\n",
       "      <td>12</td>\n",
       "      <td>4313.445745</td>\n",
       "    </tr>\n",
       "    <tr>\n",
       "      <td>4</td>\n",
       "      <td>15</td>\n",
       "      <td>737.833176</td>\n",
       "    </tr>\n",
       "  </tbody>\n",
       "</table>\n",
       "</div>"
      ],
      "text/plain": [
       "   id          loss\n",
       "0   4   1389.550974\n",
       "1   6   1748.389852\n",
       "2   9  12446.009133\n",
       "3  12   4313.445745\n",
       "4  15    737.833176"
      ]
     },
     "execution_count": 28,
     "metadata": {},
     "output_type": "execute_result"
    }
   ],
   "source": [
    "sub = pd.read_csv(submissions_folder + 'lin_regression_submission.csv')\n",
    "sub.head()"
   ]
  },
  {
   "cell_type": "markdown",
   "metadata": {},
   "source": [
    "### Random Forest"
   ]
  },
  {
   "cell_type": "markdown",
   "metadata": {},
   "source": [
    "#### Process trainning\n",
    "- The number of estimators go is tested.\n",
    "- Update the number of estimators to 20, 50 and 100 to see how the model performs. "
   ]
  },
  {
   "cell_type": "code",
   "execution_count": 29,
   "metadata": {},
   "outputs": [
    {
     "data": {
      "text/plain": [
       "RandomForestRegressor(bootstrap=True, criterion='mse', max_depth=None,\n",
       "                      max_features='auto', max_leaf_nodes=None,\n",
       "                      min_impurity_decrease=0.0, min_impurity_split=None,\n",
       "                      min_samples_leaf=1, min_samples_split=2,\n",
       "                      min_weight_fraction_leaf=0.0, n_estimators='warn',\n",
       "                      n_jobs=None, oob_score=False, random_state=None,\n",
       "                      verbose=0, warm_start=False)"
      ]
     },
     "execution_count": 29,
     "metadata": {},
     "output_type": "execute_result"
    }
   ],
   "source": [
    "# Visualize params\n",
    "RandomForestRegressor()"
   ]
  },
  {
   "cell_type": "code",
   "execution_count": 30,
   "metadata": {
    "scrolled": false
   },
   "outputs": [
    {
     "name": "stdout",
     "output_type": "stream",
     "text": [
      "Begin training\n",
      "MAE on fold 0 is 1267.2518037075408\n",
      "MAE on fold 1 is 1276.3386967822255\n",
      "MAE on fold 2 is 1270.182472682407\n",
      "\n",
      "Training done! Time Elapsed: 54.89362454414368  seconds.\n"
     ]
    }
   ],
   "source": [
    "# 1st model Random Forest\n",
    "rf_regressor_one = RandomForestRegressor(n_jobs = -1)\n",
    "\n",
    "# training\n",
    "result_rf_1 = train_model(model = rf_regressor_one, num_folds = 3)"
   ]
  },
  {
   "cell_type": "code",
   "execution_count": 31,
   "metadata": {
    "scrolled": false
   },
   "outputs": [
    {
     "name": "stdout",
     "output_type": "stream",
     "text": [
      "Begin training\n",
      "MAE on fold 0 is 1221.9018090436953\n",
      "MAE on fold 1 is 1227.886788877361\n",
      "MAE on fold 2 is 1218.6630924167218\n",
      "\n",
      "Training done! Time Elapsed: 239.89357542991638  seconds.\n"
     ]
    }
   ],
   "source": [
    "# 2st model Random Forest\n",
    "rf_regressor_two = RandomForestRegressor(n_estimators = 50, \n",
    "                                         n_jobs = -1,\n",
    "                                         max_depth = 30)\n",
    "\n",
    "# training\n",
    "result_rf_2 = train_model(model = rf_regressor_two, num_folds = 3)"
   ]
  },
  {
   "cell_type": "code",
   "execution_count": 32,
   "metadata": {
    "scrolled": false
   },
   "outputs": [
    {
     "name": "stdout",
     "output_type": "stream",
     "text": [
      "Begin training\n"
     ]
    },
    {
     "name": "stderr",
     "output_type": "stream",
     "text": [
      "[Parallel(n_jobs=-1)]: Using backend ThreadingBackend with 4 concurrent workers.\n",
      "[Parallel(n_jobs=-1)]: Done  42 tasks      | elapsed:  1.4min\n",
      "[Parallel(n_jobs=-1)]: Done 118 out of 118 | elapsed:  3.8min finished\n",
      "[Parallel(n_jobs=4)]: Using backend ThreadingBackend with 4 concurrent workers.\n",
      "[Parallel(n_jobs=4)]: Done  42 tasks      | elapsed:    0.3s\n",
      "[Parallel(n_jobs=4)]: Done 118 out of 118 | elapsed:    1.1s finished\n"
     ]
    },
    {
     "name": "stdout",
     "output_type": "stream",
     "text": [
      "MAE on fold 0 is 1215.0686034761086\n"
     ]
    },
    {
     "name": "stderr",
     "output_type": "stream",
     "text": [
      "[Parallel(n_jobs=4)]: Using backend ThreadingBackend with 4 concurrent workers.\n",
      "[Parallel(n_jobs=4)]: Done  42 tasks      | elapsed:    1.3s\n",
      "[Parallel(n_jobs=4)]: Done 118 out of 118 | elapsed:    3.6s finished\n",
      "[Parallel(n_jobs=-1)]: Using backend ThreadingBackend with 4 concurrent workers.\n",
      "[Parallel(n_jobs=-1)]: Done  42 tasks      | elapsed:  1.5min\n",
      "[Parallel(n_jobs=-1)]: Done 118 out of 118 | elapsed:  4.0min finished\n",
      "[Parallel(n_jobs=4)]: Using backend ThreadingBackend with 4 concurrent workers.\n",
      "[Parallel(n_jobs=4)]: Done  42 tasks      | elapsed:    0.3s\n",
      "[Parallel(n_jobs=4)]: Done 118 out of 118 | elapsed:    1.1s finished\n"
     ]
    },
    {
     "name": "stdout",
     "output_type": "stream",
     "text": [
      "MAE on fold 1 is 1211.7435547566727\n"
     ]
    },
    {
     "name": "stderr",
     "output_type": "stream",
     "text": [
      "[Parallel(n_jobs=4)]: Using backend ThreadingBackend with 4 concurrent workers.\n",
      "[Parallel(n_jobs=4)]: Done  42 tasks      | elapsed:    1.2s\n",
      "[Parallel(n_jobs=4)]: Done 118 out of 118 | elapsed:    3.5s finished\n",
      "[Parallel(n_jobs=-1)]: Using backend ThreadingBackend with 4 concurrent workers.\n",
      "[Parallel(n_jobs=-1)]: Done  42 tasks      | elapsed:  1.4min\n",
      "[Parallel(n_jobs=-1)]: Done 118 out of 118 | elapsed:  3.8min finished\n",
      "[Parallel(n_jobs=4)]: Using backend ThreadingBackend with 4 concurrent workers.\n",
      "[Parallel(n_jobs=4)]: Done  42 tasks      | elapsed:    0.3s\n",
      "[Parallel(n_jobs=4)]: Done 118 out of 118 | elapsed:    1.1s finished\n"
     ]
    },
    {
     "name": "stdout",
     "output_type": "stream",
     "text": [
      "MAE on fold 2 is 1221.3481337226726\n"
     ]
    },
    {
     "name": "stderr",
     "output_type": "stream",
     "text": [
      "[Parallel(n_jobs=4)]: Using backend ThreadingBackend with 4 concurrent workers.\n",
      "[Parallel(n_jobs=4)]: Done  42 tasks      | elapsed:    1.2s\n",
      "[Parallel(n_jobs=4)]: Done 118 out of 118 | elapsed:    3.5s finished\n",
      "[Parallel(n_jobs=-1)]: Using backend ThreadingBackend with 4 concurrent workers.\n",
      "[Parallel(n_jobs=-1)]: Done  42 tasks      | elapsed:  1.5min\n",
      "[Parallel(n_jobs=-1)]: Done 118 out of 118 | elapsed:  3.9min finished\n",
      "[Parallel(n_jobs=4)]: Using backend ThreadingBackend with 4 concurrent workers.\n",
      "[Parallel(n_jobs=4)]: Done  42 tasks      | elapsed:    0.3s\n",
      "[Parallel(n_jobs=4)]: Done 118 out of 118 | elapsed:    1.1s finished\n"
     ]
    },
    {
     "name": "stdout",
     "output_type": "stream",
     "text": [
      "MAE on fold 3 is 1222.0775866335407\n"
     ]
    },
    {
     "name": "stderr",
     "output_type": "stream",
     "text": [
      "[Parallel(n_jobs=4)]: Using backend ThreadingBackend with 4 concurrent workers.\n",
      "[Parallel(n_jobs=4)]: Done  42 tasks      | elapsed:    1.2s\n",
      "[Parallel(n_jobs=4)]: Done 118 out of 118 | elapsed:    3.6s finished\n",
      "[Parallel(n_jobs=-1)]: Using backend ThreadingBackend with 4 concurrent workers.\n",
      "[Parallel(n_jobs=-1)]: Done  42 tasks      | elapsed:  1.5min\n",
      "[Parallel(n_jobs=-1)]: Done 118 out of 118 | elapsed:  3.9min finished\n",
      "[Parallel(n_jobs=4)]: Using backend ThreadingBackend with 4 concurrent workers.\n",
      "[Parallel(n_jobs=4)]: Done  42 tasks      | elapsed:    0.3s\n",
      "[Parallel(n_jobs=4)]: Done 118 out of 118 | elapsed:    1.1s finished\n",
      "[Parallel(n_jobs=4)]: Using backend ThreadingBackend with 4 concurrent workers.\n"
     ]
    },
    {
     "name": "stdout",
     "output_type": "stream",
     "text": [
      "MAE on fold 4 is 1203.9065668153037\n"
     ]
    },
    {
     "name": "stderr",
     "output_type": "stream",
     "text": [
      "[Parallel(n_jobs=4)]: Done  42 tasks      | elapsed:    1.2s\n"
     ]
    },
    {
     "name": "stdout",
     "output_type": "stream",
     "text": [
      "\n",
      "Training done! Time Elapsed: 1192.394330739975  seconds.\n"
     ]
    },
    {
     "name": "stderr",
     "output_type": "stream",
     "text": [
      "[Parallel(n_jobs=4)]: Done 118 out of 118 | elapsed:    4.1s finished\n"
     ]
    }
   ],
   "source": [
    "# 3st model Random Forest\n",
    "rf_regressor_three = RandomForestRegressor(n_estimators = len(df_train.columns), \n",
    "                                          n_jobs = -1,\n",
    "                                          verbose = 1, \n",
    "                                          max_depth = len(df_train.columns))\n",
    "\n",
    "# training\n",
    "result_rf_3 = train_model(model = rf_regressor_three, num_folds = 5)"
   ]
  },
  {
   "cell_type": "markdown",
   "metadata": {},
   "source": [
    "#### Analysis of Results\n",
    "- The increasing the number of estimators improved score.\n",
    "- The best results produced with n_estimators = 100 on fold 1.\n",
    "- The best result MAE on fold 1 is 1211.7435547566727\n",
    "- The problem is time process which grows in the same proportion. \n",
    "- The model random forest were worse than linear regression\n",
    "\n",
    "#### Submission"
   ]
  },
  {
   "cell_type": "code",
   "execution_count": 33,
   "metadata": {
    "scrolled": true
   },
   "outputs": [
    {
     "name": "stdout",
     "output_type": "stream",
     "text": [
      "Data storage!\n"
     ]
    }
   ],
   "source": [
    "save_predictions(ids = test_ids, \n",
    "                 predictions = result_rf_3, \n",
    "                 file = submissions_folder + 'random_forest_submission.csv')"
   ]
  },
  {
   "cell_type": "markdown",
   "metadata": {},
   "source": [
    "#### View submission"
   ]
  },
  {
   "cell_type": "code",
   "execution_count": 34,
   "metadata": {},
   "outputs": [
    {
     "data": {
      "text/html": [
       "<div>\n",
       "<style scoped>\n",
       "    .dataframe tbody tr th:only-of-type {\n",
       "        vertical-align: middle;\n",
       "    }\n",
       "\n",
       "    .dataframe tbody tr th {\n",
       "        vertical-align: top;\n",
       "    }\n",
       "\n",
       "    .dataframe thead th {\n",
       "        text-align: right;\n",
       "    }\n",
       "</style>\n",
       "<table border=\"1\" class=\"dataframe\">\n",
       "  <thead>\n",
       "    <tr style=\"text-align: right;\">\n",
       "      <th></th>\n",
       "      <th>id</th>\n",
       "      <th>loss</th>\n",
       "    </tr>\n",
       "  </thead>\n",
       "  <tbody>\n",
       "    <tr>\n",
       "      <td>0</td>\n",
       "      <td>4</td>\n",
       "      <td>1895.007520</td>\n",
       "    </tr>\n",
       "    <tr>\n",
       "      <td>1</td>\n",
       "      <td>6</td>\n",
       "      <td>1781.783073</td>\n",
       "    </tr>\n",
       "    <tr>\n",
       "      <td>2</td>\n",
       "      <td>9</td>\n",
       "      <td>8384.960786</td>\n",
       "    </tr>\n",
       "    <tr>\n",
       "      <td>3</td>\n",
       "      <td>12</td>\n",
       "      <td>5303.408308</td>\n",
       "    </tr>\n",
       "    <tr>\n",
       "      <td>4</td>\n",
       "      <td>15</td>\n",
       "      <td>698.556212</td>\n",
       "    </tr>\n",
       "  </tbody>\n",
       "</table>\n",
       "</div>"
      ],
      "text/plain": [
       "   id         loss\n",
       "0   4  1895.007520\n",
       "1   6  1781.783073\n",
       "2   9  8384.960786\n",
       "3  12  5303.408308\n",
       "4  15   698.556212"
      ]
     },
     "execution_count": 34,
     "metadata": {},
     "output_type": "execute_result"
    }
   ],
   "source": [
    "sub = pd.read_csv(submissions_folder + 'random_forest_submission.csv')\n",
    "sub.head()"
   ]
  },
  {
   "cell_type": "markdown",
   "metadata": {},
   "source": [
    "### XGBoost\n",
    "- Model very robust\n",
    "- descentent gradient \n",
    "- regularization parameter: help avoid overfitting\n",
    "- parallelizable\n",
    "\n",
    "The model XGBRegressor will be trained with threee model using difference parameters."
   ]
  },
  {
   "cell_type": "markdown",
   "metadata": {},
   "source": [
    "#### Otimize XGBoost\n",
    "\n",
    "DMatrix is a internal data structure that used by XGBoost which is optimized for both memory efficiency and training speed."
   ]
  },
  {
   "cell_type": "code",
   "execution_count": 35,
   "metadata": {},
   "outputs": [],
   "source": [
    "# Data Matrix used in XGBoost.\n",
    "dtrain = xgb.DMatrix(X_train, label=y_train)\n",
    "dtest = xgb.DMatrix(X_test)"
   ]
  },
  {
   "cell_type": "markdown",
   "metadata": {},
   "source": [
    "#### Function  train_test_xgboost\n",
    "- The function process data to:\n",
    " - calculate time process\n",
    " - shuffle the data during each fold\n",
    " - run predictions\n",
    " - store these predictions in a numpy array\n",
    " - average the predictions over k number of folds."
   ]
  },
  {
   "cell_type": "code",
   "execution_count": 36,
   "metadata": {},
   "outputs": [],
   "source": [
    "def train_test_xgboost(model, early_stopping_rounds):\n",
    "    kf = KFold(n_splits = k, shuffle = True, random_state = random_state)\n",
    "    results = np.zeros((X_test.shape[0], k))\n",
    "    \n",
    "    print(\"Begin training\")\n",
    "    start = time.time()\n",
    "    \n",
    "    for i, (train_index, val_index) in enumerate(kf.split(X_train)):\n",
    "        print(\"Begin training and testing base model on fold {}\".format(i))\n",
    "        start = time.time()\n",
    "        \n",
    "        X_train_mini, X_val = X_train.iloc[train_index], X_train.iloc[val_index]\n",
    "        y_train_mini, y_val = y_train[train_index], y_train[val_index]\n",
    "\n",
    "        # train model\n",
    "        model.fit(X_train_mini, \n",
    "                   y_train_mini, \n",
    "                   eval_metric = eval_error, \n",
    "                   eval_set = [(X_train_mini, y_train_mini), (X_val, y_val)], \n",
    "                   early_stopping_rounds = early_stopping_rounds,\n",
    "                   verbose = False)\n",
    "\n",
    "        end = time.time()\n",
    "        print(\"Training time elapsed on fold {} is {}\".format(i, end - start))\n",
    "        \n",
    "        # Predict on validation set \n",
    "        val_predictions = model.predict(X_val, ntree_limit = model.best_ntree_limit)\n",
    "        error = mean_absolute_error(np.exp(y_val) - shift, np.exp(val_predictions) - shift)\n",
    "        print(\"Error on fold {} is {} \\n\".format(i, error))\n",
    "                \n",
    "        # Predict on test set\n",
    "        test_predictions = np.exp(model.predict(X_test, ntree_limit = model.best_ntree_limit)) - shift\n",
    "        # Sum predictions\n",
    "        results[:,i] = test_predictions\n",
    "        \n",
    "        end = time.time()\n",
    "        print(\"\\nTraining done! Time Elapsed:\", end - start, \" seconds.\")\n",
    "\n",
    "    # Average predictions\n",
    "    mean_results = results.mean(axis = 1)\n",
    "    return mean_results"
   ]
  },
  {
   "cell_type": "code",
   "execution_count": 37,
   "metadata": {},
   "outputs": [
    {
     "data": {
      "text/plain": [
       "XGBRegressor(base_score=0.5, booster='gbtree', colsample_bylevel=1,\n",
       "             colsample_bynode=1, colsample_bytree=1, gamma=0,\n",
       "             importance_type='gain', learning_rate=0.1, max_delta_step=0,\n",
       "             max_depth=3, min_child_weight=1, missing=None, n_estimators=100,\n",
       "             n_jobs=1, nthread=None, objective='reg:linear', random_state=0,\n",
       "             reg_alpha=0, reg_lambda=1, scale_pos_weight=1, seed=None,\n",
       "             silent=None, subsample=1, verbosity=1)"
      ]
     },
     "execution_count": 37,
     "metadata": {},
     "output_type": "execute_result"
    }
   ],
   "source": [
    "# Visualize params\n",
    "XGBRegressor()"
   ]
  },
  {
   "cell_type": "markdown",
   "metadata": {},
   "source": [
    "#### Chooce parameters\n",
    "It´s possible reduce error and overfitting with analysis of parameters. Here is a list of the key parameters below:\n",
    "\n",
    "- max_depth - Max tree depth for boosted trees\n",
    "- gamma - Minimum loss reduction required to make a further partition on a leaf node of the tree.\n",
    "- min_child_weight - Minimum sum of instance weight(hessian) needed in a child.\n",
    "\n",
    "**NOTE**: keep someone parameters default, how by example, learning_rate=0.1.<br/>\n",
    "**NOTE about n_estimators**: when tested there aren´t effect"
   ]
  },
  {
   "cell_type": "code",
   "execution_count": 38,
   "metadata": {
    "scrolled": false
   },
   "outputs": [
    {
     "name": "stdout",
     "output_type": "stream",
     "text": [
      "Begin training\n",
      "Begin training and testing base model on fold 0\n",
      "[01:56:39] WARNING: C:/Jenkins/workspace/xgboost-win64_release_0.90/src/objective/regression_obj.cu:152: reg:linear is now deprecated in favor of reg:squarederror.\n",
      "Training time elapsed on fold 0 is 59.42958927154541\n",
      "Error on fold 0 is 1205.526984271663 \n",
      "\n",
      "\n",
      "Training done! Time Elapsed: 60.773072242736816  seconds.\n",
      "Begin training and testing base model on fold 1\n",
      "[01:57:40] WARNING: C:/Jenkins/workspace/xgboost-win64_release_0.90/src/objective/regression_obj.cu:152: reg:linear is now deprecated in favor of reg:squarederror.\n",
      "Training time elapsed on fold 1 is 55.13726449012756\n",
      "Error on fold 1 is 1211.4545332831656 \n",
      "\n",
      "\n",
      "Training done! Time Elapsed: 56.24442672729492  seconds.\n",
      "Begin training and testing base model on fold 2\n",
      "[01:58:36] WARNING: C:/Jenkins/workspace/xgboost-win64_release_0.90/src/objective/regression_obj.cu:152: reg:linear is now deprecated in favor of reg:squarederror.\n",
      "Training time elapsed on fold 2 is 54.75081276893616\n",
      "Error on fold 2 is 1214.842840666143 \n",
      "\n",
      "\n",
      "Training done! Time Elapsed: 55.876768827438354  seconds.\n",
      "Begin training and testing base model on fold 3\n",
      "[01:59:32] WARNING: C:/Jenkins/workspace/xgboost-win64_release_0.90/src/objective/regression_obj.cu:152: reg:linear is now deprecated in favor of reg:squarederror.\n",
      "Training time elapsed on fold 3 is 55.222468852996826\n",
      "Error on fold 3 is 1228.4521383554118 \n",
      "\n",
      "\n",
      "Training done! Time Elapsed: 56.426044940948486  seconds.\n",
      "Begin training and testing base model on fold 4\n",
      "[02:00:28] WARNING: C:/Jenkins/workspace/xgboost-win64_release_0.90/src/objective/regression_obj.cu:152: reg:linear is now deprecated in favor of reg:squarederror.\n",
      "Training time elapsed on fold 4 is 57.63573145866394\n",
      "Error on fold 4 is 1219.1052827490441 \n",
      "\n",
      "\n",
      "Training done! Time Elapsed: 58.76539874076843  seconds.\n"
     ]
    }
   ],
   "source": [
    "# Model 1 XGB_regressor\n",
    "xgb_one = XGBRegressor(nthread = -1)\n",
    "\n",
    "# training\n",
    "results_xgb_1 = train_test_xgboost(model = xgb_one,\n",
    "                                   early_stopping_rounds = 50)"
   ]
  },
  {
   "cell_type": "code",
   "execution_count": 39,
   "metadata": {
    "scrolled": false
   },
   "outputs": [
    {
     "name": "stdout",
     "output_type": "stream",
     "text": [
      "Begin training\n",
      "Begin training and testing base model on fold 0\n",
      "Training time elapsed on fold 0 is 281.79953169822693\n",
      "Error on fold 0 is 1147.2809412993995 \n",
      "\n",
      "\n",
      "Training done! Time Elapsed: 283.86189556121826  seconds.\n",
      "Begin training and testing base model on fold 1\n",
      "Training time elapsed on fold 1 is 258.6547632217407\n",
      "Error on fold 1 is 1150.0978823402681 \n",
      "\n",
      "\n",
      "Training done! Time Elapsed: 260.6194396018982  seconds.\n",
      "Begin training and testing base model on fold 2\n",
      "Training time elapsed on fold 2 is 284.5122694969177\n",
      "Error on fold 2 is 1149.3315641811243 \n",
      "\n",
      "\n",
      "Training done! Time Elapsed: 286.6539566516876  seconds.\n",
      "Begin training and testing base model on fold 3\n",
      "Training time elapsed on fold 3 is 232.017915725708\n",
      "Error on fold 3 is 1161.9972366624143 \n",
      "\n",
      "\n",
      "Training done! Time Elapsed: 233.91067671775818  seconds.\n",
      "Begin training and testing base model on fold 4\n",
      "Training time elapsed on fold 4 is 236.13847064971924\n",
      "Error on fold 4 is 1157.7847057399877 \n",
      "\n",
      "\n",
      "Training done! Time Elapsed: 238.03281569480896  seconds.\n"
     ]
    }
   ],
   "source": [
    "# Model 2 XGB_regressor\n",
    "xgb_two = XGBRegressor(learning_rate=0.1,\n",
    "                       n_estimators = 1000,\n",
    "                       max_depth = 5,\n",
    "                       min_child_weight = len(df_train.columns),\n",
    "                       gamma = 1,\n",
    "                       subsample = 1.0,\n",
    "                       colsample_bytree = 1.0,\n",
    "                       reg_alpha = 1.0,\n",
    "                       silent = True, \n",
    "                       seed = random_state, \n",
    "                       nthread = -1)\n",
    "# training\n",
    "results_xgb_2 = train_test_xgboost(model = xgb_two,\n",
    "                                   early_stopping_rounds = 50)"
   ]
  },
  {
   "cell_type": "code",
   "execution_count": 40,
   "metadata": {},
   "outputs": [
    {
     "name": "stdout",
     "output_type": "stream",
     "text": [
      "Begin training\n",
      "Begin training and testing base model on fold 0\n",
      "Training time elapsed on fold 0 is 215.12440252304077\n",
      "Error on fold 0 is 1140.7930736046517 \n",
      "\n",
      "\n",
      "Training done! Time Elapsed: 217.5553958415985  seconds.\n",
      "Begin training and testing base model on fold 1\n",
      "Training time elapsed on fold 1 is 280.02099227905273\n",
      "Error on fold 1 is 1142.6189198301279 \n",
      "\n",
      "\n",
      "Training done! Time Elapsed: 283.00370383262634  seconds.\n",
      "Begin training and testing base model on fold 2\n",
      "Training time elapsed on fold 2 is 292.0481905937195\n",
      "Error on fold 2 is 1144.213848548053 \n",
      "\n",
      "\n",
      "Training done! Time Elapsed: 295.2645125389099  seconds.\n",
      "Begin training and testing base model on fold 3\n",
      "Training time elapsed on fold 3 is 270.60906958580017\n",
      "Error on fold 3 is 1150.918809123673 \n",
      "\n",
      "\n",
      "Training done! Time Elapsed: 273.5893156528473  seconds.\n",
      "Begin training and testing base model on fold 4\n",
      "Training time elapsed on fold 4 is 236.3326814174652\n",
      "Error on fold 4 is 1150.0613693268986 \n",
      "\n",
      "\n",
      "Training done! Time Elapsed: 238.98664808273315  seconds.\n"
     ]
    }
   ],
   "source": [
    "# Model 3 XGB_regressor\n",
    "xgb_three = XGBRegressor(learning_rate=0.1,\n",
    "                        n_estimators = 1000,\n",
    "                        max_depth = 9,\n",
    "                        min_child_weight = 6,\n",
    "                        gamma = 1,\n",
    "                        subsample = 1.0,\n",
    "                        colsample_bytree = 0.5,\n",
    "                        reg_alpha = 1.0,\n",
    "                        silent = True, \n",
    "                        seed = random_state, \n",
    "                        nthread = -1)\n",
    "\n",
    "# training\n",
    "results_xgb_3 = train_test_xgboost(model = xgb_three,\n",
    "                                   early_stopping_rounds = 50)"
   ]
  },
  {
   "cell_type": "markdown",
   "metadata": {},
   "source": [
    "#### Submission"
   ]
  },
  {
   "cell_type": "code",
   "execution_count": 41,
   "metadata": {
    "scrolled": true
   },
   "outputs": [
    {
     "name": "stdout",
     "output_type": "stream",
     "text": [
      "Data storage!\n"
     ]
    }
   ],
   "source": [
    "save_predictions(ids = test_ids, \n",
    "                 predictions = results_xgb_1, \n",
    "                 file = submissions_folder + 'xgb_submission.csv')"
   ]
  },
  {
   "cell_type": "markdown",
   "metadata": {},
   "source": [
    "#### View submission"
   ]
  },
  {
   "cell_type": "code",
   "execution_count": 42,
   "metadata": {},
   "outputs": [
    {
     "data": {
      "text/html": [
       "<div>\n",
       "<style scoped>\n",
       "    .dataframe tbody tr th:only-of-type {\n",
       "        vertical-align: middle;\n",
       "    }\n",
       "\n",
       "    .dataframe tbody tr th {\n",
       "        vertical-align: top;\n",
       "    }\n",
       "\n",
       "    .dataframe thead th {\n",
       "        text-align: right;\n",
       "    }\n",
       "</style>\n",
       "<table border=\"1\" class=\"dataframe\">\n",
       "  <thead>\n",
       "    <tr style=\"text-align: right;\">\n",
       "      <th></th>\n",
       "      <th>id</th>\n",
       "      <th>loss</th>\n",
       "    </tr>\n",
       "  </thead>\n",
       "  <tbody>\n",
       "    <tr>\n",
       "      <td>0</td>\n",
       "      <td>4</td>\n",
       "      <td>1750.100195</td>\n",
       "    </tr>\n",
       "    <tr>\n",
       "      <td>1</td>\n",
       "      <td>6</td>\n",
       "      <td>1831.237549</td>\n",
       "    </tr>\n",
       "    <tr>\n",
       "      <td>2</td>\n",
       "      <td>9</td>\n",
       "      <td>8265.201563</td>\n",
       "    </tr>\n",
       "    <tr>\n",
       "      <td>3</td>\n",
       "      <td>12</td>\n",
       "      <td>4871.358496</td>\n",
       "    </tr>\n",
       "    <tr>\n",
       "      <td>4</td>\n",
       "      <td>15</td>\n",
       "      <td>960.504199</td>\n",
       "    </tr>\n",
       "  </tbody>\n",
       "</table>\n",
       "</div>"
      ],
      "text/plain": [
       "   id         loss\n",
       "0   4  1750.100195\n",
       "1   6  1831.237549\n",
       "2   9  8265.201563\n",
       "3  12  4871.358496\n",
       "4  15   960.504199"
      ]
     },
     "execution_count": 42,
     "metadata": {},
     "output_type": "execute_result"
    }
   ],
   "source": [
    "sub = pd.read_csv(submissions_folder + 'xgb_submission.csv')\n",
    "sub.head()"
   ]
  },
  {
   "cell_type": "markdown",
   "metadata": {},
   "source": [
    "#### Analysis of Results\n",
    "- The XGBoost have better performace in comparain Random Forest and Linear Regression\n",
    "- The best result MAE on fold 0 is 1140.7930736046517 in three model"
   ]
  },
  {
   "cell_type": "code",
   "execution_count": null,
   "metadata": {},
   "outputs": [],
   "source": []
  }
 ],
 "metadata": {
  "kernelspec": {
   "display_name": "Python 3",
   "language": "python",
   "name": "python3"
  },
  "language_info": {
   "codemirror_mode": {
    "name": "ipython",
    "version": 3
   },
   "file_extension": ".py",
   "mimetype": "text/x-python",
   "name": "python",
   "nbconvert_exporter": "python",
   "pygments_lexer": "ipython3",
   "version": "3.7.4"
  },
  "toc": {
   "base_numbering": 1,
   "nav_menu": {},
   "number_sections": false,
   "sideBar": false,
   "skip_h1_title": false,
   "title_cell": "Table of Contents",
   "title_sidebar": "Contents",
   "toc_cell": false,
   "toc_position": {},
   "toc_section_display": false,
   "toc_window_display": false
  }
 },
 "nbformat": 4,
 "nbformat_minor": 2
}
